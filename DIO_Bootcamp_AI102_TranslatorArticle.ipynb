{
  "nbformat": 4,
  "nbformat_minor": 0,
  "metadata": {
    "colab": {
      "provenance": []
    },
    "kernelspec": {
      "name": "python3",
      "display_name": "Python 3"
    },
    "language_info": {
      "name": "python"
    }
  },
  "cells": [
    {
      "cell_type": "code",
      "execution_count": null,
      "metadata": {
        "id": "4_jAAYJ_d0uc",
        "colab": {
          "base_uri": "https://localhost:8080/"
        },
        "outputId": "986209a0-1dce-45e5-ddd8-fae20d1d6f1e"
      },
      "outputs": [
        {
          "output_type": "stream",
          "name": "stdout",
          "text": [
            "Requirement already satisfied: requests in /usr/local/lib/python3.10/dist-packages (2.32.3)\n",
            "Requirement already satisfied: beautifulsoup4 in /usr/local/lib/python3.10/dist-packages (4.12.3)\n",
            "Requirement already satisfied: openai in /usr/local/lib/python3.10/dist-packages (1.54.4)\n",
            "Collecting langchain-openai\n",
            "  Downloading langchain_openai-0.2.9-py3-none-any.whl.metadata (2.6 kB)\n",
            "Requirement already satisfied: charset-normalizer<4,>=2 in /usr/local/lib/python3.10/dist-packages (from requests) (3.4.0)\n",
            "Requirement already satisfied: idna<4,>=2.5 in /usr/local/lib/python3.10/dist-packages (from requests) (3.10)\n",
            "Requirement already satisfied: urllib3<3,>=1.21.1 in /usr/local/lib/python3.10/dist-packages (from requests) (2.2.3)\n",
            "Requirement already satisfied: certifi>=2017.4.17 in /usr/local/lib/python3.10/dist-packages (from requests) (2024.8.30)\n",
            "Requirement already satisfied: soupsieve>1.2 in /usr/local/lib/python3.10/dist-packages (from beautifulsoup4) (2.6)\n",
            "Requirement already satisfied: anyio<5,>=3.5.0 in /usr/local/lib/python3.10/dist-packages (from openai) (3.7.1)\n",
            "Requirement already satisfied: distro<2,>=1.7.0 in /usr/local/lib/python3.10/dist-packages (from openai) (1.9.0)\n",
            "Requirement already satisfied: httpx<1,>=0.23.0 in /usr/local/lib/python3.10/dist-packages (from openai) (0.27.2)\n",
            "Requirement already satisfied: jiter<1,>=0.4.0 in /usr/local/lib/python3.10/dist-packages (from openai) (0.7.1)\n",
            "Requirement already satisfied: pydantic<3,>=1.9.0 in /usr/local/lib/python3.10/dist-packages (from openai) (2.9.2)\n",
            "Requirement already satisfied: sniffio in /usr/local/lib/python3.10/dist-packages (from openai) (1.3.1)\n",
            "Requirement already satisfied: tqdm>4 in /usr/local/lib/python3.10/dist-packages (from openai) (4.66.6)\n",
            "Requirement already satisfied: typing-extensions<5,>=4.11 in /usr/local/lib/python3.10/dist-packages (from openai) (4.12.2)\n",
            "Requirement already satisfied: langchain-core<0.4.0,>=0.3.17 in /usr/local/lib/python3.10/dist-packages (from langchain-openai) (0.3.19)\n",
            "Collecting tiktoken<1,>=0.7 (from langchain-openai)\n",
            "  Downloading tiktoken-0.8.0-cp310-cp310-manylinux_2_17_x86_64.manylinux2014_x86_64.whl.metadata (6.6 kB)\n",
            "Requirement already satisfied: exceptiongroup in /usr/local/lib/python3.10/dist-packages (from anyio<5,>=3.5.0->openai) (1.2.2)\n",
            "Requirement already satisfied: httpcore==1.* in /usr/local/lib/python3.10/dist-packages (from httpx<1,>=0.23.0->openai) (1.0.7)\n",
            "Requirement already satisfied: h11<0.15,>=0.13 in /usr/local/lib/python3.10/dist-packages (from httpcore==1.*->httpx<1,>=0.23.0->openai) (0.14.0)\n",
            "Requirement already satisfied: PyYAML>=5.3 in /usr/local/lib/python3.10/dist-packages (from langchain-core<0.4.0,>=0.3.17->langchain-openai) (6.0.2)\n",
            "Requirement already satisfied: jsonpatch<2.0,>=1.33 in /usr/local/lib/python3.10/dist-packages (from langchain-core<0.4.0,>=0.3.17->langchain-openai) (1.33)\n",
            "Requirement already satisfied: langsmith<0.2.0,>=0.1.125 in /usr/local/lib/python3.10/dist-packages (from langchain-core<0.4.0,>=0.3.17->langchain-openai) (0.1.143)\n",
            "Requirement already satisfied: packaging<25,>=23.2 in /usr/local/lib/python3.10/dist-packages (from langchain-core<0.4.0,>=0.3.17->langchain-openai) (24.2)\n",
            "Requirement already satisfied: tenacity!=8.4.0,<10.0.0,>=8.1.0 in /usr/local/lib/python3.10/dist-packages (from langchain-core<0.4.0,>=0.3.17->langchain-openai) (9.0.0)\n",
            "Requirement already satisfied: annotated-types>=0.6.0 in /usr/local/lib/python3.10/dist-packages (from pydantic<3,>=1.9.0->openai) (0.7.0)\n",
            "Requirement already satisfied: pydantic-core==2.23.4 in /usr/local/lib/python3.10/dist-packages (from pydantic<3,>=1.9.0->openai) (2.23.4)\n",
            "Requirement already satisfied: regex>=2022.1.18 in /usr/local/lib/python3.10/dist-packages (from tiktoken<1,>=0.7->langchain-openai) (2024.9.11)\n",
            "Requirement already satisfied: jsonpointer>=1.9 in /usr/local/lib/python3.10/dist-packages (from jsonpatch<2.0,>=1.33->langchain-core<0.4.0,>=0.3.17->langchain-openai) (3.0.0)\n",
            "Requirement already satisfied: orjson<4.0.0,>=3.9.14 in /usr/local/lib/python3.10/dist-packages (from langsmith<0.2.0,>=0.1.125->langchain-core<0.4.0,>=0.3.17->langchain-openai) (3.10.11)\n",
            "Requirement already satisfied: requests-toolbelt<2.0.0,>=1.0.0 in /usr/local/lib/python3.10/dist-packages (from langsmith<0.2.0,>=0.1.125->langchain-core<0.4.0,>=0.3.17->langchain-openai) (1.0.0)\n",
            "Downloading langchain_openai-0.2.9-py3-none-any.whl (50 kB)\n",
            "\u001b[2K   \u001b[90m━━━━━━━━━━━━━━━━━━━━━━━━━━━━━━━━━━━━━━━━\u001b[0m \u001b[32m50.4/50.4 kB\u001b[0m \u001b[31m1.5 MB/s\u001b[0m eta \u001b[36m0:00:00\u001b[0m\n",
            "\u001b[?25hDownloading tiktoken-0.8.0-cp310-cp310-manylinux_2_17_x86_64.manylinux2014_x86_64.whl (1.2 MB)\n",
            "\u001b[2K   \u001b[90m━━━━━━━━━━━━━━━━━━━━━━━━━━━━━━━━━━━━━━━━\u001b[0m \u001b[32m1.2/1.2 MB\u001b[0m \u001b[31m16.1 MB/s\u001b[0m eta \u001b[36m0:00:00\u001b[0m\n",
            "\u001b[?25hInstalling collected packages: tiktoken, langchain-openai\n",
            "Successfully installed langchain-openai-0.2.9 tiktoken-0.8.0\n"
          ]
        }
      ],
      "source": [
        "!pip install requests beautifulsoup4 openai langchain-openai"
      ]
    },
    {
      "cell_type": "code",
      "source": [
        "import requests\n",
        "from bs4 import BeautifulSoup\n",
        "\n",
        "def extract_text_from_url(url):\n",
        "    response = requests.get(url)\n",
        "\n",
        "    if response.status_code == 200:\n",
        "      soup = BeautifulSoup(response.text, 'html.parser')\n",
        "      for script_or_style in soup(['script', 'style']):\n",
        "        script_or_style.decompose()\n",
        "      texto = soup.get_text(separator= '')\n",
        "      #Limpar texto\n",
        "      linhas = (line.strip() for line in texto.splitlines())\n",
        "      parts = (phrase.strip() for line in linhas for phrase in line.split(\" \"))\n",
        "      texto_limpo = '\\n'.join(part for part in parts if part)\n",
        "      return texto_limpo\n",
        "    else:\n",
        "        print(f\"Failed to fetch the URL. Status code: {response.status_code}\")\n",
        "        return None\n",
        "\n",
        "    text = soup.get_text()\n",
        "    return text\n",
        "\n",
        "extract_text_from_url('https://dev.to/kenakamu/azure-open-ai-in-vnet-3alo')"
      ],
      "metadata": {
        "colab": {
          "base_uri": "https://localhost:8080/",
          "height": 123
        },
        "id": "5KMV3fRRNMlk",
        "outputId": "7e07bf3f-bcf2-4920-a234-46221848f891"
      },
      "execution_count": null,
      "outputs": [
        {
          "output_type": "execute_result",
          "data": {
            "text/plain": [
              "\"Azure\\nOpen\\nAI\\nin\\nVNet\\n-\\nDEV\\nCommunity\\nSkip\\nto\\ncontent\\nNavigation\\nmenu\\nSearch\\nPowered\\nby\\nSearch\\nAlgolia\\nSearch\\nLog\\nin\\nCreate\\naccount\\nDEV\\nCommunity\\nClose\\nAdd\\nreaction\\nLike\\nUnicorn\\nExploding\\nHead\\nRaised\\nHands\\nFire\\nJump\\nto\\nComments\\nSave\\nMore...\\nCopy\\nlink\\nCopy\\nlink\\nCopied\\nto\\nClipboard\\nShare\\nto\\nX\\nShare\\nto\\nLinkedIn\\nShare\\nto\\nFacebook\\nShare\\nto\\nMastodon\\nReport\\nAbuse\\nKenichiro\\nNakamura\\nPosted\\non\\nOct\\n12,\\n2023\\nAzure\\nOpen\\nAI\\nin\\nVNet\\n#azure\\n#openai\\n#security\\nGPT\\nmodels\\nare\\nhosted\\nin\\nmultiple\\nservice\\nvendor\\nat\\nthe\\nmoment,\\nand\\nMicrosoft\\nAzure\\nis\\none\\nof\\nthem.\\nEven\\nthough\\nthe\\nmodels\\nthemselves\\nare\\nthe\\nsame,\\nthere\\nare\\nmany\\ndifferences\\nincluding:\\ncost\\nfunctionalities\\ntype\\nof\\nmodels\\nand\\nversions\\ngeo\\nlocation\\nsecurity\\nsupport\\netc.\\nOne\\nof\\nthe\\nmost\\nimportant\\naspects\\nwhen\\nwe\\nuse\\nit\\nin\\nan\\nEnterprise\\nEnvironment\\nis,\\nof\\ncourse,\\nsecurity.\\nBy\\nusing\\nAzure\\nnetwork\\nsecurity\\nfeatures\\nwith\\nAzure\\nOpen\\nAI,\\ncustomers\\ncan\\nconsume\\nthe\\nOpen\\nAI\\nservice\\nfrom\\nand\\nwithin\\nthe\\nVNet,\\ntherefore\\nno\\ninformation\\nis\\nflowing\\nin\\npublic.\\nSample\\nDeployment\\nAzure\\nSample\\nrepo\\nprovides\\na\\nsample\\nbicep\\nfiles\\nto\\ndeploy\\nAzure\\nOpen\\nAI\\ninto\\nVNet\\nenvironment.\\nGitHub:\\nopenai-enterprise-iac\\nThe\\nkey\\nfeatures\\nthe\\nbicep\\nuses\\nare:\\nVNet\\nVNet\\nintegration\\nfor\\nWeb\\nApp\\nPrivate\\nEndpoint\\nfor\\nAzure\\nOpen\\nAI\\nPrivate\\nEndpoint\\nfor\\nCognitive\\nSearch\\nPrivate\\nDNS\\nZone\\nBy\\nusing\\nthese\\nfeatures,\\nall\\nthe\\noutbound\\ntraffic\\nfrom\\nthe\\nWeb\\nApp\\nonly\\nrouted\\ninside\\nthe\\nVNet\\nand\\nall\\nthe\\nnames\\nare\\nresolved\\ninto\\nprivate\\nIP\\naddresses.\\nOpen\\nAI\\nand\\nCognitive\\nSearch\\nshut\\ndown\\nthe\\npublic\\nIP\\naddress,\\nthus\\nthere\\nis\\nnot\\npublic\\ninterface\\nendpoint\\navailable\\nanymore.\\nDeploy\\nThe\\nbicep\\nfile\\nwill\\ndeploy\\nfollowing\\nAzure\\nResources.\\nLet's\\ndeploy\\nand\\nconfirm\\nhow\\nit\\nworks.\\nI\\ncreate\\na\\nresource\\ngroup\\nin\\nEast\\nUS\\nregion\\nfor\\nmy\\nown\\ntest.\\ngit\\nclone\\nhttps://github.com/Azure-Samples/openai-enterprise-iac\\ncd\\nopenai-enterprise-iac\\naz\\ngroup\\ncreate\\n-n\\nopenaitest\\n-l\\neastus\\naz\\ndeployment\\ngroup\\ncreate\\n-g\\nopenaitest\\n-f\\n.\\\\infra\\\\main.bicep\\nEnter\\nfullscreen\\nmode\\nExit\\nfullscreen\\nmode\\nOnce\\nI\\nrun\\nthe\\ncommend\\nabove,\\nI\\nsee\\nthe\\ndeployment\\nstarted.\\nWait\\nuntil\\nthe\\ndeployment\\ncompletes.\\nTest\\nLet's\\nsee\\nif\\nthe\\ndeployment\\nwas\\nsucceeded.\\nAzure\\nOpen\\nAI\\nLet's\\ntry\\npublic\\naccess\\nfirst.\\nI\\ncould\\ncreate\\na\\ndeployment\\nwithout\\nany\\nissue.\\nBut\\nwhen\\nI\\ntry\\nfrom\\nthe\\nChat\\nplayground\\nin\\nmy\\nAzure\\nPortal,\\nI\\nsee\\nthe\\nfollowing\\nerror.\\nHow\\nabout\\naccess\\nvia\\nthe\\nWeb\\nAPI?\\nFrom\\nan\\nadvanced\\ntool\\nof\\nthe\\nApp\\nService,\\nI\\nlogin\\nto\\nBash\\nsession,\\nand\\nfirst\\nI\\nping\\nthe\\nservice\\nURL.\\nI\\nsee\\nthe\\nprivate\\nIP\\naddress\\nassigned\\nto\\nthe\\nPrivate\\nEndpoint\\nis\\nreturend.\\nThen\\nI\\nuse\\ncurl\\ncommand\\nto\\nsend\\nrequest\\nto\\nthe\\nendpoint.\\nTop\\ncomments\\n(0)\\nSubscribe\\nPersonal\\nTrusted\\nUser\\nCreate\\ntemplate\\nTemplates\\nlet\\nyou\\nquickly\\nanswer\\nFAQs\\nor\\nstore\\nsnippets\\nfor\\nre-use.\\nSubmit\\nPreview\\nDismiss\\nCode\\nof\\nConduct\\n•\\nReport\\nabuse\\nAre\\nyou\\nsure\\nyou\\nwant\\nto\\nhide\\nthis\\ncomment?\\nIt\\nwill\\nbecome\\nhidden\\nin\\nyour\\npost,\\nbut\\nwill\\nstill\\nbe\\nvisible\\nvia\\nthe\\ncomment's\\npermalink.\\nHide\\nchild\\ncomments\\nas\\nwell\\nConfirm\\nFor\\nfurther\\nactions,\\nyou\\nmay\\nconsider\\nblocking\\nthis\\nperson\\nand/or\\nreporting\\nabuse\\nRead\\nnext\\nSecurity\\nnews\\nweekly\\nround-up\\n-\\n1st\\nNovember\\n2024\\nHabdul\\nHazeez\\n-\\nNov\\n1\\nMove\\nhardcoded\\nsecrets\\nto\\na\\nSecrets\\nManager\\nKhai\\nJ.\\nThani\\n-\\nOct\\n13\\nWhy\\nEvery\\nCompany\\nNeeds\\nSecurity\\nCheckers\\nin\\n2025\\nNatasha\\nRamzan\\n-\\nNov\\n11\\nHow\\nto\\nKill\\nVulnerabilities\\nin\\nYour\\nNode.js\\nApp:\\nA\\nGuide\\nto\\nWriting\\nSecure\\nJavaScript\\nCode\\nAivan\\nCarlos\\nTuquero\\n-\\nNov\\n10\\nKenichiro\\nNakamura\\nFollow\\nJoined\\nFeb\\n3,\\n2018\\nMore\\nfrom\\nKenichiro\\nNakamura\\nAzure\\nML\\nPrompt\\nflow:\\nUse\\ncontent\\nsafety\\nbefore\\nsending\\na\\nrequest\\nto\\nLLM\\n#azure\\n#promptflow\\n#contentsafety\\nDon't\\nwaste\\ntime\\nto\\nwrite\\nREADME,\\nuse\\nreadme-ai\\ninstead\\n#ai\\n#readme\\n#openai\\nC#:\\nAzure\\nOpen\\nAI\\nand\\nFunction\\nCalling\\n#azure\\n#openai\\n#functioncalling\\nThank\\nyou\\nto\\nour\\nDiamond\\nSponsor\\nNeon\\nfor\\nsupporting\\nour\\ncommunity.\\nDEV\\nCommunity\\n—\\nA\\nconstructive\\nand\\ninclusive\\nsocial\\nnetwork\\nfor\\nsoftware\\ndevelopers.\\nWith\\nyou\\nevery\\nstep\\nof\\nyour\\njourney.\\nHome\\nDEV++\\nPodcasts\\nVideos\\nTags\\nDEV\\nHelp\\nForem\\nShop\\nAdvertise\\non\\nDEV\\nDEV\\nChallenges\\nDEV\\nShowcase\\nAbout\\nContact\\nFree\\nPostgres\\nDatabase\\nGuides\\nSoftware\\ncomparisons\\nCode\\nof\\nConduct\\nPrivacy\\nPolicy\\nTerms\\nof\\nuse\\nBuilt\\non\\nForem\\n—\\nthe\\nopen\\nsource\\nsoftware\\nthat\\npowers\\nDEV\\nand\\nother\\ninclusive\\ncommunities.\\nMade\\nwith\\nlove\\nand\\nRuby\\non\\nRails.\\nDEV\\nCommunity\\n©\\n2016\\n-\\n2024.\\nWe're\\na\\nplace\\nwhere\\ncoders\\nshare,\\nstay\\nup-to-date\\nand\\ngrow\\ntheir\\ncareers.\\nLog\\nin\\nCreate\\naccount\""
            ],
            "application/vnd.google.colaboratory.intrinsic+json": {
              "type": "string"
            }
          },
          "metadata": {},
          "execution_count": 39
        }
      ]
    },
    {
      "cell_type": "code",
      "source": [
        "from langchain_openai.chat_models.azure import AzureChatOpenAI\n",
        "\n",
        "client = AzureChatOpenAI (\n",
        "    azure_endpoint = \"https://openai-dio-bootcamp-ai102-dev-eastus-001.openai.azure.com/\",\n",
        "    api_key = \"\",\n",
        "    api_version = \"2024-07-18\",\n",
        "    deployment_name = \"gpt-4o-mini\",\n",
        "    max_retries = 0\n",
        "\n",
        ")\n",
        "\n",
        "def translate_article(text, lang):\n",
        "  messages = [\n",
        "      (\"system\", \"Você atua como tradutor de textos\"),\n",
        "      (\"user\", f\"Traduza o {text} para o idioma {lang} e responda em markdown\")\n",
        "  ]\n",
        "\n",
        "\n",
        "\n",
        "  response = client.invoke(messages)\n",
        "  print(response.content)\n",
        "  return response.content\n",
        "\n",
        "\n",
        "  translate_article(\"Let's deploy and confirm how it works.\", \"pt-br\")"
      ],
      "metadata": {
        "id": "kXhvpf75PP-7"
      },
      "execution_count": null,
      "outputs": []
    },
    {
      "cell_type": "code",
      "source": [
        "url = \"https://dev.to/kenakamu/azure-open-ai-in-vnet-3alo\"\n",
        "text = extract_text_from_url(url)\n",
        "article = translate_article(text, \"pt-br\")\n",
        "\n",
        "print(article)"
      ],
      "metadata": {
        "id": "HFe32sDNdnXb"
      },
      "execution_count": null,
      "outputs": []
    }
  ]
}