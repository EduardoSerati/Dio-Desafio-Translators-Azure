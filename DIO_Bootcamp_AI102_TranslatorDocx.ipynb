{
  "nbformat": 4,
  "nbformat_minor": 0,
  "metadata": {
    "colab": {
      "provenance": [],
      "authorship_tag": "ABX9TyPsLPDY5JTMgXl6zYAp/KyA",
      "include_colab_link": true
    },
    "kernelspec": {
      "name": "python3",
      "display_name": "Python 3"
    },
    "language_info": {
      "name": "python"
    }
  },
  "cells": [
    {
      "cell_type": "markdown",
      "metadata": {
        "id": "view-in-github",
        "colab_type": "text"
      },
      "source": [
        "<a href=\"https://colab.research.google.com/github/EduardoSerati/Dio-Desafio-Translators-Azure/blob/main/DIO_Bootcamp_AI102_TranslatorDocx.ipynb\" target=\"_parent\"><img src=\"https://colab.research.google.com/assets/colab-badge.svg\" alt=\"Open In Colab\"/></a>"
      ]
    },
    {
      "cell_type": "code",
      "execution_count": null,
      "metadata": {
        "colab": {
          "base_uri": "https://localhost:8080/"
        },
        "id": "SvZkVVCdUF3n",
        "outputId": "2afd3cfa-3acc-4a2f-bde6-4a5f9f3de67f"
      },
      "outputs": [
        {
          "output_type": "stream",
          "name": "stdout",
          "text": [
            "Requirement already satisfied: requests in /usr/local/lib/python3.10/dist-packages (2.32.3)\n",
            "Requirement already satisfied: python-docx in /usr/local/lib/python3.10/dist-packages (1.1.2)\n",
            "Requirement already satisfied: charset-normalizer<4,>=2 in /usr/local/lib/python3.10/dist-packages (from requests) (3.4.0)\n",
            "Requirement already satisfied: idna<4,>=2.5 in /usr/local/lib/python3.10/dist-packages (from requests) (3.10)\n",
            "Requirement already satisfied: urllib3<3,>=1.21.1 in /usr/local/lib/python3.10/dist-packages (from requests) (2.2.3)\n",
            "Requirement already satisfied: certifi>=2017.4.17 in /usr/local/lib/python3.10/dist-packages (from requests) (2024.8.30)\n",
            "Requirement already satisfied: lxml>=3.1.0 in /usr/local/lib/python3.10/dist-packages (from python-docx) (5.3.0)\n",
            "Requirement already satisfied: typing-extensions>=4.9.0 in /usr/local/lib/python3.10/dist-packages (from python-docx) (4.12.2)\n"
          ]
        }
      ],
      "source": [
        "!pip install requests python-docx"
      ]
    },
    {
      "cell_type": "code",
      "source": [
        "import requests\n",
        "from docx import Document\n",
        "import os\n",
        "\n",
        "subscription_key = \"4gjIHlRv80LIu7dc3VSd2j8cTdUVhJcOuOVqmKyHKtbDghpMTCc0JQQJ99AKACHYHv6XJ3w3AAAbACOGE6Qt\"\n",
        "endpoint = 'https://api.cognitive.microsofttranslator.com'\n",
        "location = \"eastus2\"\n",
        "language_destination = 'pt-br'\n",
        "\n",
        "def translator_text(text, target_language):\n",
        "  path = '/translate'\n",
        "  constructed_url = endpoint + path\n",
        "  headers = {\n",
        "      'Ocp-Apim-Subscription-Key': subscription_key,\n",
        "      'Ocp-Apim-Subscription-Region': location,\n",
        "      'Content-type': 'application/json',\n",
        "      'X-ClientTraced': str(os.urandom(16))\n",
        "  }\n",
        "\n",
        "  body = [{\n",
        "     'text': text\n",
        "  }]\n",
        "  params = {\n",
        "     'api-version': '3.0',\n",
        "     'from': 'en',\n",
        "     'to': language_destination\n",
        "  }\n",
        "  request = requests.post(constructed_url, params=params, headers=headers, json=body)\n",
        "  response = request.json()\n",
        "  return response[0][\"translations\"][0][\"text\"]\n"
      ],
      "metadata": {
        "id": "iYQ-ySA9VRSf"
      },
      "execution_count": null,
      "outputs": []
    },
    {
      "cell_type": "code",
      "source": [
        "translator_text(\"Oh won't you kiss me on the mouth and love me like a sailor?\", language_destination )"
      ],
      "metadata": {
        "colab": {
          "base_uri": "https://localhost:8080/",
          "height": 35
        },
        "id": "wo60am2rY4e2",
        "outputId": "9085a6f9-74ce-4fe0-c767-7b91114d6d43"
      },
      "execution_count": null,
      "outputs": [
        {
          "output_type": "execute_result",
          "data": {
            "text/plain": [
              "'Oh, você não vai me beijar na boca e me amar como um marinheiro?'"
            ],
            "application/vnd.google.colaboratory.intrinsic+json": {
              "type": "string"
            }
          },
          "metadata": {},
          "execution_count": 5
        }
      ]
    },
    {
      "cell_type": "code",
      "source": [
        "def translate_document(path):\n",
        "  document = Document(path)\n",
        "  full_text = []\n",
        "  for paragraph in document.paragraphs:\n",
        "    translated_text = translator_text(paragraph.text, language_destination)\n",
        "    full_text.append(translated_text)\n",
        "\n",
        "  translated_doc = Document()\n",
        "  for line in full_text:\n",
        "    print(line)\n",
        "    translated_doc.add_paragraph(line)\n",
        "\n",
        "  path_translated = path.replace(\".docx\", f\"_{language_destination}.docx\")\n",
        "  translated_doc.save(path_translated)\n",
        "  return path_translated\n",
        "\n",
        "input_file = \"/content/Docx-Translator.docx\"\n",
        "translate_document(input_file)\n"
      ],
      "metadata": {
        "colab": {
          "base_uri": "https://localhost:8080/",
          "height": 678
        },
        "id": "y1cDjbJRZ1X9",
        "outputId": "47c7b668-18fd-44ed-e4a7-eb74c88686e8"
      },
      "execution_count": null,
      "outputs": [
        {
          "output_type": "stream",
          "name": "stdout",
          "text": [
            "Eu a vi da maneira mais certa\n",
            "Parecendo Anne Hathaway\n",
            "Rindo enquanto ela batia na caneta\n",
            "E tossiu, e tossiu\n",
            "E então ela veio até os meus joelhos\n",
            "Implorando: Baby, você poderia por favor\n",
            "Faça as coisas que você disse que faria\n",
            "Para mim, para mim?\n",
            "Oh, você não vai me beijar na boca e me amar como um marinheiro?\n",
            "E quando você provar, pode me dizer qual é o meu sabor?\n",
            "Eu não acredito em Deus, mas acredito que você é meu salvador\n",
            "Minha mãe diz que está preocupada, mas estou coberto por esse favor\n",
            "E quando estamos ficando sujos, eu esqueço tudo o que está errado\n",
            "Eu durmo para poder te ver porque eu odeio esperar tanto tempo\n",
            "Eu durmo para que eu possa te ver e eu odeio esperar tanto tempo\n",
            "Ela levou meus dedos à boca\n",
            "O tipo de coisa que te deixa orgulhoso\n",
            "Que nada mais jamais tinha\n",
            "Deu certo, deu certo\n",
            "E ultimamente eu tentei outras coisas\n",
            "Mas nada pode capturar a picada\n",
            "Do veneno que ela vai cuspir\n",
            "Agora, oh\n",
            "Você não vai me beijar na boca e me amar como um marinheiro?\n",
            "E quando você provar, pode me dizer qual é o meu sabor?\n",
            "Eu não acredito em Deus, mas acredito que você é meu salvador\n",
            "Eu sei que você está preocupado, mas você está pingando a meu favor\n",
            "E quando estamos ficando sujos, eu esqueço tudo o que está errado\n",
            "Eu durmo para poder te ver porque eu odeio esperar tanto tempo\n",
            "Eu durmo para que eu possa te ver e eu odeio esperar tanto tempo\n",
            "E podemos fugir para as paredes dentro de sua casa\n",
            "Eu posso ser o gato, baby, você pode ser o rato\n",
            "E podemos rir de coisas sobre as quais não sabemos nada\n",
            "Podemos ir para sempre até que você queira ficar de fora\n",
            "\n",
            "\n",
            "\n"
          ]
        },
        {
          "output_type": "execute_result",
          "data": {
            "text/plain": [
              "'/content/Docx-Translator_pt-br.docx'"
            ],
            "application/vnd.google.colaboratory.intrinsic+json": {
              "type": "string"
            }
          },
          "metadata": {},
          "execution_count": 10
        }
      ]
    },
    {
      "cell_type": "code",
      "source": [
        "\n"
      ],
      "metadata": {
        "id": "vKpnLHc2bTj2"
      },
      "execution_count": null,
      "outputs": []
    }
  ]
}